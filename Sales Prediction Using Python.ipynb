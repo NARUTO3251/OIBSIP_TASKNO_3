{
 "cells": [
  {
   "cell_type": "code",
   "execution_count": 465,
   "id": "b4796a65",
   "metadata": {},
   "outputs": [],
   "source": [
    "# Importing the Dependencies\n",
    "import pandas as pd \n",
    "import numpy as np \n",
    "import matplotlib.pyplot as plt \n",
    "import seaborn as sns\n",
    "import warnings\n",
    "warnings.filterwarnings('ignore')"
   ]
  },
  {
   "cell_type": "code",
   "execution_count": 466,
   "id": "24a8d0e7",
   "metadata": {},
   "outputs": [],
   "source": [
    "#load the dataset\n",
    "df = pd.read_csv('Advertising.csv')"
   ]
  },
  {
   "cell_type": "code",
   "execution_count": 467,
   "id": "fbfcea33",
   "metadata": {},
   "outputs": [
    {
     "data": {
      "text/html": [
       "<div>\n",
       "<style scoped>\n",
       "    .dataframe tbody tr th:only-of-type {\n",
       "        vertical-align: middle;\n",
       "    }\n",
       "\n",
       "    .dataframe tbody tr th {\n",
       "        vertical-align: top;\n",
       "    }\n",
       "\n",
       "    .dataframe thead th {\n",
       "        text-align: right;\n",
       "    }\n",
       "</style>\n",
       "<table border=\"1\" class=\"dataframe\">\n",
       "  <thead>\n",
       "    <tr style=\"text-align: right;\">\n",
       "      <th></th>\n",
       "      <th>Unnamed: 0</th>\n",
       "      <th>TV</th>\n",
       "      <th>Radio</th>\n",
       "      <th>Newspaper</th>\n",
       "      <th>Sales</th>\n",
       "    </tr>\n",
       "  </thead>\n",
       "  <tbody>\n",
       "    <tr>\n",
       "      <th>0</th>\n",
       "      <td>1</td>\n",
       "      <td>230.1</td>\n",
       "      <td>37.8</td>\n",
       "      <td>69.2</td>\n",
       "      <td>22.1</td>\n",
       "    </tr>\n",
       "    <tr>\n",
       "      <th>1</th>\n",
       "      <td>2</td>\n",
       "      <td>44.5</td>\n",
       "      <td>39.3</td>\n",
       "      <td>45.1</td>\n",
       "      <td>10.4</td>\n",
       "    </tr>\n",
       "    <tr>\n",
       "      <th>2</th>\n",
       "      <td>3</td>\n",
       "      <td>17.2</td>\n",
       "      <td>45.9</td>\n",
       "      <td>69.3</td>\n",
       "      <td>9.3</td>\n",
       "    </tr>\n",
       "    <tr>\n",
       "      <th>3</th>\n",
       "      <td>4</td>\n",
       "      <td>151.5</td>\n",
       "      <td>41.3</td>\n",
       "      <td>58.5</td>\n",
       "      <td>18.5</td>\n",
       "    </tr>\n",
       "    <tr>\n",
       "      <th>4</th>\n",
       "      <td>5</td>\n",
       "      <td>180.8</td>\n",
       "      <td>10.8</td>\n",
       "      <td>58.4</td>\n",
       "      <td>12.9</td>\n",
       "    </tr>\n",
       "  </tbody>\n",
       "</table>\n",
       "</div>"
      ],
      "text/plain": [
       "   Unnamed: 0     TV  Radio  Newspaper  Sales\n",
       "0           1  230.1   37.8       69.2   22.1\n",
       "1           2   44.5   39.3       45.1   10.4\n",
       "2           3   17.2   45.9       69.3    9.3\n",
       "3           4  151.5   41.3       58.5   18.5\n",
       "4           5  180.8   10.8       58.4   12.9"
      ]
     },
     "execution_count": 467,
     "metadata": {},
     "output_type": "execute_result"
    }
   ],
   "source": [
    "#printing the first 5 rows of the dataframe\n",
    "df.head()"
   ]
  },
  {
   "cell_type": "code",
   "execution_count": 468,
   "id": "5287faee",
   "metadata": {},
   "outputs": [
    {
     "data": {
      "text/plain": [
       "(200, 5)"
      ]
     },
     "execution_count": 468,
     "metadata": {},
     "output_type": "execute_result"
    }
   ],
   "source": [
    "# checking the number of rows and columns in the dataframe\n",
    "df.shape"
   ]
  },
  {
   "cell_type": "code",
   "execution_count": 469,
   "id": "12a2d446",
   "metadata": {},
   "outputs": [
    {
     "data": {
      "text/plain": [
       "['Unnamed: 0', 'TV', 'Radio', 'Newspaper', 'Sales']"
      ]
     },
     "execution_count": 469,
     "metadata": {},
     "output_type": "execute_result"
    }
   ],
   "source": [
    "# printing the column features\n",
    "df.columns.values.tolist()"
   ]
  },
  {
   "cell_type": "code",
   "execution_count": 470,
   "id": "32911f49",
   "metadata": {},
   "outputs": [
    {
     "name": "stdout",
     "output_type": "stream",
     "text": [
      "<class 'pandas.core.frame.DataFrame'>\n",
      "RangeIndex: 200 entries, 0 to 199\n",
      "Data columns (total 5 columns):\n",
      " #   Column      Non-Null Count  Dtype  \n",
      "---  ------      --------------  -----  \n",
      " 0   Unnamed: 0  200 non-null    int64  \n",
      " 1   TV          200 non-null    float64\n",
      " 2   Radio       200 non-null    float64\n",
      " 3   Newspaper   200 non-null    float64\n",
      " 4   Sales       200 non-null    float64\n",
      "dtypes: float64(4), int64(1)\n",
      "memory usage: 7.9 KB\n"
     ]
    }
   ],
   "source": [
    "# Checking the general information of dataset\n",
    "df.info()"
   ]
  },
  {
   "cell_type": "code",
   "execution_count": 471,
   "id": "8b4c7c44",
   "metadata": {},
   "outputs": [
    {
     "data": {
      "text/html": [
       "<div>\n",
       "<style scoped>\n",
       "    .dataframe tbody tr th:only-of-type {\n",
       "        vertical-align: middle;\n",
       "    }\n",
       "\n",
       "    .dataframe tbody tr th {\n",
       "        vertical-align: top;\n",
       "    }\n",
       "\n",
       "    .dataframe thead th {\n",
       "        text-align: right;\n",
       "    }\n",
       "</style>\n",
       "<table border=\"1\" class=\"dataframe\">\n",
       "  <thead>\n",
       "    <tr style=\"text-align: right;\">\n",
       "      <th></th>\n",
       "      <th>Unnamed: 0</th>\n",
       "      <th>TV</th>\n",
       "      <th>Radio</th>\n",
       "      <th>Newspaper</th>\n",
       "      <th>Sales</th>\n",
       "    </tr>\n",
       "  </thead>\n",
       "  <tbody>\n",
       "    <tr>\n",
       "      <th>count</th>\n",
       "      <td>200.000000</td>\n",
       "      <td>200.000000</td>\n",
       "      <td>200.000000</td>\n",
       "      <td>200.000000</td>\n",
       "      <td>200.000000</td>\n",
       "    </tr>\n",
       "    <tr>\n",
       "      <th>mean</th>\n",
       "      <td>100.500000</td>\n",
       "      <td>147.042500</td>\n",
       "      <td>23.264000</td>\n",
       "      <td>30.554000</td>\n",
       "      <td>14.022500</td>\n",
       "    </tr>\n",
       "    <tr>\n",
       "      <th>std</th>\n",
       "      <td>57.879185</td>\n",
       "      <td>85.854236</td>\n",
       "      <td>14.846809</td>\n",
       "      <td>21.778621</td>\n",
       "      <td>5.217457</td>\n",
       "    </tr>\n",
       "    <tr>\n",
       "      <th>min</th>\n",
       "      <td>1.000000</td>\n",
       "      <td>0.700000</td>\n",
       "      <td>0.000000</td>\n",
       "      <td>0.300000</td>\n",
       "      <td>1.600000</td>\n",
       "    </tr>\n",
       "    <tr>\n",
       "      <th>25%</th>\n",
       "      <td>50.750000</td>\n",
       "      <td>74.375000</td>\n",
       "      <td>9.975000</td>\n",
       "      <td>12.750000</td>\n",
       "      <td>10.375000</td>\n",
       "    </tr>\n",
       "    <tr>\n",
       "      <th>50%</th>\n",
       "      <td>100.500000</td>\n",
       "      <td>149.750000</td>\n",
       "      <td>22.900000</td>\n",
       "      <td>25.750000</td>\n",
       "      <td>12.900000</td>\n",
       "    </tr>\n",
       "    <tr>\n",
       "      <th>75%</th>\n",
       "      <td>150.250000</td>\n",
       "      <td>218.825000</td>\n",
       "      <td>36.525000</td>\n",
       "      <td>45.100000</td>\n",
       "      <td>17.400000</td>\n",
       "    </tr>\n",
       "    <tr>\n",
       "      <th>max</th>\n",
       "      <td>200.000000</td>\n",
       "      <td>296.400000</td>\n",
       "      <td>49.600000</td>\n",
       "      <td>114.000000</td>\n",
       "      <td>27.000000</td>\n",
       "    </tr>\n",
       "  </tbody>\n",
       "</table>\n",
       "</div>"
      ],
      "text/plain": [
       "       Unnamed: 0          TV       Radio   Newspaper       Sales\n",
       "count  200.000000  200.000000  200.000000  200.000000  200.000000\n",
       "mean   100.500000  147.042500   23.264000   30.554000   14.022500\n",
       "std     57.879185   85.854236   14.846809   21.778621    5.217457\n",
       "min      1.000000    0.700000    0.000000    0.300000    1.600000\n",
       "25%     50.750000   74.375000    9.975000   12.750000   10.375000\n",
       "50%    100.500000  149.750000   22.900000   25.750000   12.900000\n",
       "75%    150.250000  218.825000   36.525000   45.100000   17.400000\n",
       "max    200.000000  296.400000   49.600000  114.000000   27.000000"
      ]
     },
     "execution_count": 471,
     "metadata": {},
     "output_type": "execute_result"
    }
   ],
   "source": [
    "#perfroming statistical analysis\n",
    "df.describe()"
   ]
  },
  {
   "cell_type": "code",
   "execution_count": 472,
   "id": "ba6427a5",
   "metadata": {},
   "outputs": [
    {
     "data": {
      "text/plain": [
       "Unnamed: 0    0\n",
       "TV            0\n",
       "Radio         0\n",
       "Newspaper     0\n",
       "Sales         0\n",
       "dtype: int64"
      ]
     },
     "execution_count": 472,
     "metadata": {},
     "output_type": "execute_result"
    }
   ],
   "source": [
    "# checking if there is any null value or not in the dataset.\n",
    "df.isnull().sum()"
   ]
  },
  {
   "cell_type": "code",
   "execution_count": 473,
   "id": "b2aa4ca2",
   "metadata": {},
   "outputs": [
    {
     "data": {
      "image/png": "[encoded data removed]",
      "text/plain": [
       "<Figure size 360x360 with 3 Axes>"
      ]
     },
     "metadata": {
      "needs_background": "light"
     },
     "output_type": "display_data"
    }
   ],
   "source": [
    "# checking for outliers\n",
    "fig , axs = plt.subplots(3 , figsize =(5,5))\n",
    "plt1 = sns.boxplot(df['TV'],ax = axs[0])\n",
    "plt1 = sns.boxplot(df['Newspaper'],ax = axs[1])\n",
    "plt1 = sns.boxplot(df['Radio'],ax = axs[2])\n",
    "plt.tight_layout()"
   ]
  },
  {
   "cell_type": "code",
   "execution_count": 474,
   "id": "ced6a08e",
   "metadata": {},
   "outputs": [
    {
     "data": {
      "text/plain": [
       "<AxesSubplot:xlabel='Newspaper', ylabel='Density'>"
      ]
     },
     "execution_count": 474,
     "metadata": {},
     "output_type": "execute_result"
    },
    {
     "data": {
      "image/png": "[encoded data removed]",
      "text/plain": [
       "<Figure size 432x288 with 1 Axes>"
      ]
     },
     "metadata": {
      "needs_background": "light"
     },
     "output_type": "display_data"
    }
   ],
   "source": [
    "sns.distplot(df['Newspaper'])"
   ]
  },
  {
   "cell_type": "code",
   "execution_count": 475,
   "id": "cec806ca",
   "metadata": {},
   "outputs": [],
   "source": [
    "iqr = df.Newspaper.quantile(0.75) - df.Newspaper.quantile(0.25)"
   ]
  },
  {
   "cell_type": "code",
   "execution_count": 476,
   "id": "48266c79",
   "metadata": {},
   "outputs": [
    {
     "name": "stdout",
     "output_type": "stream",
     "text": [
      "-35.775000000000006\n",
      "93.625\n"
     ]
    }
   ],
   "source": [
    "lower_bridge = df['Newspaper'].quantile(0.25) - (iqr*1.5)\n",
    "upper_bridge = df['Newspaper'].quantile(0.75) + (iqr*1.5)\n",
    "print(lower_bridge)\n",
    "print(upper_bridge)"
   ]
  },
  {
   "cell_type": "code",
   "execution_count": 477,
   "id": "235e5534",
   "metadata": {},
   "outputs": [],
   "source": [
    "data = df.copy()"
   ]
  },
  {
   "cell_type": "code",
   "execution_count": 478,
   "id": "145c93ae",
   "metadata": {},
   "outputs": [],
   "source": [
    "data.loc[data['Newspaper']>=93 , 'Newspaper']=93"
   ]
  },
  {
   "cell_type": "code",
   "execution_count": 479,
   "id": "66e9ac0f",
   "metadata": {},
   "outputs": [
    {
     "data": {
      "text/plain": [
       "<AxesSubplot:xlabel='Newspaper'>"
      ]
     },
     "execution_count": 479,
     "metadata": {},
     "output_type": "execute_result"
    },
    {
     "data": {
      "image/png": "[encoded data removed]",
      "text/plain": [
       "<Figure size 432x288 with 1 Axes>"
      ]
     },
     "metadata": {
      "needs_background": "light"
     },
     "output_type": "display_data"
    }
   ],
   "source": [
    "sns.boxplot(data['Newspaper'])"
   ]
  },
  {
   "cell_type": "code",
   "execution_count": 480,
   "id": "c75da070",
   "metadata": {},
   "outputs": [
    {
     "data": {
      "text/plain": [
       "<AxesSubplot:xlabel='Sales'>"
      ]
     },
     "execution_count": 480,
     "metadata": {},
     "output_type": "execute_result"
    },
    {
     "data": {
      "image/png": "[encoded data removed]",
      "text/plain": [
       "<Figure size 432x288 with 1 Axes>"
      ]
     },
     "metadata": {
      "needs_background": "light"
     },
     "output_type": "display_data"
    }
   ],
   "source": [
    "sns.boxplot(data['Sales'])"
   ]
  },
  {
   "cell_type": "code",
   "execution_count": 481,
   "id": "9f9826e9",
   "metadata": {},
   "outputs": [
    {
     "data": {
      "image/png": "[encoded data removed]",
      "text/plain": [
       "<Figure size 864x288 with 3 Axes>"
      ]
     },
     "metadata": {
      "needs_background": "light"
     },
     "output_type": "display_data"
    }
   ],
   "source": [
    "sns.pairplot(data , x_vars = ['TV','Newspaper','Radio'],\n",
    "            y_vars='Sales',height=4,aspect=1,kind='scatter')\n",
    "plt.show()"
   ]
  },
  {
   "cell_type": "code",
   "execution_count": 482,
   "id": "4c8f7dbc",
   "metadata": {},
   "outputs": [
    {
     "data": {
      "image/png": "[encoded data removed]",
      "text/plain": [
       "<Figure size 432x288 with 2 Axes>"
      ]
     },
     "metadata": {
      "needs_background": "light"
     },
     "output_type": "display_data"
    }
   ],
   "source": [
    "sns.heatmap(data.corr(), cmap='YlGnBu' , annot=True)\n",
    "plt.show()"
   ]
  },
  {
   "cell_type": "code",
   "execution_count": 483,
   "id": "c06b9458",
   "metadata": {},
   "outputs": [],
   "source": [
    "#selecting the important features having correlation of 0.5 & 1.5 and 0.5 & -1.5\n",
    "important_features = list(df.corr()['Sales'][(df.corr()['Sales']>+0.5)|(df.corr()['Sales']<-0.5)].index)"
   ]
  },
  {
   "cell_type": "code",
   "execution_count": 484,
   "id": "d2d0c5fe",
   "metadata": {},
   "outputs": [
    {
     "name": "stdout",
     "output_type": "stream",
     "text": [
      "['TV', 'Radio', 'Sales']\n"
     ]
    }
   ],
   "source": [
    "print(important_features)"
   ]
  },
  {
   "cell_type": "code",
   "execution_count": 485,
   "id": "9d224d35",
   "metadata": {},
   "outputs": [],
   "source": [
    "#declaring dependent and independent variable of features\n",
    "X = data ['TV']\n",
    "y = data [ 'Sales']"
   ]
  },
  {
   "cell_type": "code",
   "execution_count": 486,
   "id": "019cf630",
   "metadata": {},
   "outputs": [],
   "source": [
    "X = X.values.reshape(-1,1)"
   ]
  },
  {
   "cell_type": "code",
   "execution_count": 487,
   "id": "f4818134",
   "metadata": {},
   "outputs": [
    {
     "data": {
      "text/plain": [
       "array([[230.1],\n",
       "       [ 44.5],\n",
       "       [ 17.2],\n",
       "       [151.5],\n",
       "       [180.8],\n",
       "       [  8.7],\n",
       "       [ 57.5],\n",
       "       [120.2],\n",
       "       [  8.6],\n",
       "       [199.8],\n",
       "       [ 66.1],\n",
       "       [214.7],\n",
       "       [ 23.8],\n",
       "       [ 97.5],\n",
       "       [204.1],\n",
       "       [195.4],\n",
       "       [ 67.8],\n",
       "       [281.4],\n",
       "       [ 69.2],\n",
       "       [147.3],\n",
       "       [218.4],\n",
       "       [237.4],\n",
       "       [ 13.2],\n",
       "       [228.3],\n",
       "       [ 62.3],\n",
       "       [262.9],\n",
       "       [142.9],\n",
       "       [240.1],\n",
       "       [248.8],\n",
       "       [ 70.6],\n",
       "       [292.9],\n",
       "       [112.9],\n",
       "       [ 97.2],\n",
       "       [265.6],\n",
       "       [ 95.7],\n",
       "       [290.7],\n",
       "       [266.9],\n",
       "       [ 74.7],\n",
       "       [ 43.1],\n",
       "       [228. ],\n",
       "       [202.5],\n",
       "       [177. ],\n",
       "       [293.6],\n",
       "       [206.9],\n",
       "       [ 25.1],\n",
       "       [175.1],\n",
       "       [ 89.7],\n",
       "       [239.9],\n",
       "       [227.2],\n",
       "       [ 66.9],\n",
       "       [199.8],\n",
       "       [100.4],\n",
       "       [216.4],\n",
       "       [182.6],\n",
       "       [262.7],\n",
       "       [198.9],\n",
       "       [  7.3],\n",
       "       [136.2],\n",
       "       [210.8],\n",
       "       [210.7],\n",
       "       [ 53.5],\n",
       "       [261.3],\n",
       "       [239.3],\n",
       "       [102.7],\n",
       "       [131.1],\n",
       "       [ 69. ],\n",
       "       [ 31.5],\n",
       "       [139.3],\n",
       "       [237.4],\n",
       "       [216.8],\n",
       "       [199.1],\n",
       "       [109.8],\n",
       "       [ 26.8],\n",
       "       [129.4],\n",
       "       [213.4],\n",
       "       [ 16.9],\n",
       "       [ 27.5],\n",
       "       [120.5],\n",
       "       [  5.4],\n",
       "       [116. ],\n",
       "       [ 76.4],\n",
       "       [239.8],\n",
       "       [ 75.3],\n",
       "       [ 68.4],\n",
       "       [213.5],\n",
       "       [193.2],\n",
       "       [ 76.3],\n",
       "       [110.7],\n",
       "       [ 88.3],\n",
       "       [109.8],\n",
       "       [134.3],\n",
       "       [ 28.6],\n",
       "       [217.7],\n",
       "       [250.9],\n",
       "       [107.4],\n",
       "       [163.3],\n",
       "       [197.6],\n",
       "       [184.9],\n",
       "       [289.7],\n",
       "       [135.2],\n",
       "       [222.4],\n",
       "       [296.4],\n",
       "       [280.2],\n",
       "       [187.9],\n",
       "       [238.2],\n",
       "       [137.9],\n",
       "       [ 25. ],\n",
       "       [ 90.4],\n",
       "       [ 13.1],\n",
       "       [255.4],\n",
       "       [225.8],\n",
       "       [241.7],\n",
       "       [175.7],\n",
       "       [209.6],\n",
       "       [ 78.2],\n",
       "       [ 75.1],\n",
       "       [139.2],\n",
       "       [ 76.4],\n",
       "       [125.7],\n",
       "       [ 19.4],\n",
       "       [141.3],\n",
       "       [ 18.8],\n",
       "       [224. ],\n",
       "       [123.1],\n",
       "       [229.5],\n",
       "       [ 87.2],\n",
       "       [  7.8],\n",
       "       [ 80.2],\n",
       "       [220.3],\n",
       "       [ 59.6],\n",
       "       [  0.7],\n",
       "       [265.2],\n",
       "       [  8.4],\n",
       "       [219.8],\n",
       "       [ 36.9],\n",
       "       [ 48.3],\n",
       "       [ 25.6],\n",
       "       [273.7],\n",
       "       [ 43. ],\n",
       "       [184.9],\n",
       "       [ 73.4],\n",
       "       [193.7],\n",
       "       [220.5],\n",
       "       [104.6],\n",
       "       [ 96.2],\n",
       "       [140.3],\n",
       "       [240.1],\n",
       "       [243.2],\n",
       "       [ 38. ],\n",
       "       [ 44.7],\n",
       "       [280.7],\n",
       "       [121. ],\n",
       "       [197.6],\n",
       "       [171.3],\n",
       "       [187.8],\n",
       "       [  4.1],\n",
       "       [ 93.9],\n",
       "       [149.8],\n",
       "       [ 11.7],\n",
       "       [131.7],\n",
       "       [172.5],\n",
       "       [ 85.7],\n",
       "       [188.4],\n",
       "       [163.5],\n",
       "       [117.2],\n",
       "       [234.5],\n",
       "       [ 17.9],\n",
       "       [206.8],\n",
       "       [215.4],\n",
       "       [284.3],\n",
       "       [ 50. ],\n",
       "       [164.5],\n",
       "       [ 19.6],\n",
       "       [168.4],\n",
       "       [222.4],\n",
       "       [276.9],\n",
       "       [248.4],\n",
       "       [170.2],\n",
       "       [276.7],\n",
       "       [165.6],\n",
       "       [156.6],\n",
       "       [218.5],\n",
       "       [ 56.2],\n",
       "       [287.6],\n",
       "       [253.8],\n",
       "       [205. ],\n",
       "       [139.5],\n",
       "       [191.1],\n",
       "       [286. ],\n",
       "       [ 18.7],\n",
       "       [ 39.5],\n",
       "       [ 75.5],\n",
       "       [ 17.2],\n",
       "       [166.8],\n",
       "       [149.7],\n",
       "       [ 38.2],\n",
       "       [ 94.2],\n",
       "       [177. ],\n",
       "       [283.6],\n",
       "       [232.1]])"
      ]
     },
     "execution_count": 487,
     "metadata": {},
     "output_type": "execute_result"
    }
   ],
   "source": [
    "X"
   ]
  },
  {
   "cell_type": "code",
   "execution_count": 488,
   "id": "0a1f65ac",
   "metadata": {},
   "outputs": [
    {
     "data": {
      "text/plain": [
       "0      22.1\n",
       "1      10.4\n",
       "2       9.3\n",
       "3      18.5\n",
       "4      12.9\n",
       "       ... \n",
       "195     7.6\n",
       "196     9.7\n",
       "197    12.8\n",
       "198    25.5\n",
       "199    13.4\n",
       "Name: Sales, Length: 200, dtype: float64"
      ]
     },
     "execution_count": 488,
     "metadata": {},
     "output_type": "execute_result"
    }
   ],
   "source": [
    "y"
   ]
  },
  {
   "cell_type": "code",
   "execution_count": 489,
   "id": "0c013484",
   "metadata": {},
   "outputs": [
    {
     "name": "stdout",
     "output_type": "stream",
     "text": [
      "(200, 1) (200,)\n"
     ]
    }
   ],
   "source": [
    "print(X.shape,y.shape)"
   ]
  },
  {
   "cell_type": "code",
   "execution_count": 490,
   "id": "6186dd40",
   "metadata": {},
   "outputs": [],
   "source": [
    "#splitting the data\n",
    "from sklearn.model_selection import train_test_split\n",
    "X_train,X_test,Y_train,Y_test = train_test_split(X,y,test_size=0.33)"
   ]
  },
  {
   "cell_type": "code",
   "execution_count": 491,
   "id": "4887382e",
   "metadata": {},
   "outputs": [
    {
     "name": "stdout",
     "output_type": "stream",
     "text": [
      "(134, 1) (134,)\n"
     ]
    }
   ],
   "source": [
    "print(X_train.shape,y_train.shape)"
   ]
  },
  {
   "cell_type": "code",
   "execution_count": 492,
   "id": "9cd4cff2",
   "metadata": {},
   "outputs": [],
   "source": [
    "#Importing the model Algorithms\n",
    "from sklearn.metrics import mean_squared_error , r2_score\n",
    "from sklearn.model_selection import cross_val_score,GridSearchCV\n",
    "from sklearn.neighbors import KNeighborsRegressor\n",
    "from sklearn.svm import SVR\n",
    "from sklearn.tree import DecisionTreeRegressor\n",
    "from sklearn.ensemble import RandomForestRegressor"
   ]
  },
  {
   "cell_type": "code",
   "execution_count": 493,
   "id": "a5729284",
   "metadata": {},
   "outputs": [
    {
     "data": {
      "text/plain": [
       "KNeighborsRegressor()"
      ]
     },
     "execution_count": 493,
     "metadata": {},
     "output_type": "execute_result"
    }
   ],
   "source": [
    "# K Nighbors Regressor\n",
    "knn =  KNeighborsRegressor().fit(X_train,y_train)\n",
    "knn"
   ]
  },
  {
   "cell_type": "code",
   "execution_count": 494,
   "id": "4d2bed2a",
   "metadata": {},
   "outputs": [],
   "source": [
    "knn_train_pred =knn.predict(X_train)"
   ]
  },
  {
   "cell_type": "code",
   "execution_count": 495,
   "id": "cdd86057",
   "metadata": {},
   "outputs": [],
   "source": [
    "knn_test_pred =knn.predict(X_test)"
   ]
  },
  {
   "cell_type": "code",
   "execution_count": 496,
   "id": "5f3e90b5",
   "metadata": {},
   "outputs": [
    {
     "name": "stdout",
     "output_type": "stream",
     "text": [
      "[13.24 16.98 13.24 11.94 15.98 13.8  11.44 13.8   9.76 17.46 14.44 16.26\n",
      " 13.7  14.68 11.08 12.84 14.46 12.7  11.32 12.7  14.44 13.52 20.2  15.6\n",
      " 17.6  14.46 11.14 15.52 13.8  15.22 13.22 11.52 14.84 13.22 18.24 13.8\n",
      " 14.16 15.02 12.42 17.46 12.84 16.86 17.02 11.3  14.36 14.56 12.86 13.58\n",
      " 11.48 12.16 11.94 12.7  16.98 19.42 15.78 12.86 12.14  9.76 12.44 19.26\n",
      " 11.52 14.62 11.64 14.68 12.14 11.3  17.56  9.6  15.02 14.16 13.52 13.52\n",
      " 13.22 16.2  19.68 11.32 14.18 19.26 17.92 11.64 15.88 17.02 13.8  16.26\n",
      " 12.   12.14 13.3   9.86 10.08 14.68 12.44 14.46 12.16 18.24  7.3  11.48\n",
      " 14.18 11.04 12.   14.84 16.2  15.5   7.3  12.84 17.02 19.26 12.32 16.86\n",
      " 13.   12.14 15.98 11.52 16.76 14.68 14.68 13.58 12.7  15.98 14.36 14.44\n",
      "  9.86 12.16 14.36 12.84 14.44 11.08 13.8  13.52 13.22 13.88 15.52 15.02\n",
      " 12.84 17.02] [11.64 14.16 15.86 17.02 14.9  14.46 12.32 19.42  9.76 13.24 13.58 15.4\n",
      " 14.86 11.48 11.08 16.54 15.22 13.52 13.04 20.2  13.54 16.98 12.16 14.46\n",
      " 12.   14.58 14.16 16.6  11.3  11.32 12.36 11.48 19.68 12.32 11.08 12.84\n",
      " 14.46 12.7  15.02 15.98 16.42 18.12 16.54 15.22 16.6  14.36 14.18 13.8\n",
      " 14.56 18.12 11.52 15.98 14.16 13.9  13.22 14.16 13.18 14.36 12.56  9.76\n",
      " 17.92 12.32 12.64 12.14 13.24 13.24]\n"
     ]
    }
   ],
   "source": [
    "print(knn_train_pred ,knn_test_pred )"
   ]
  },
  {
   "cell_type": "code",
   "execution_count": 497,
   "id": "68387e7b",
   "metadata": {},
   "outputs": [],
   "source": [
    "Results = pd.DataFrame(columns=['Model','Train R2' ,'Test R2','Test RMSE','Variance'])"
   ]
  },
  {
   "cell_type": "code",
   "execution_count": 498,
   "id": "bff3e774",
   "metadata": {},
   "outputs": [
    {
     "name": "stdout",
     "output_type": "stream",
     "text": [
      "R2: -0.2003239307822171\n",
      "RMSE: 5.871314446811151\n"
     ]
    }
   ],
   "source": [
    "r2 = r2_score(y_test,knn_test_pred)\n",
    "r2_train = r2_score(y_train,knn_train_pred)\n",
    "rmse = np.sqrt(mean_squared_error(y_test,knn_test_pred))\n",
    "variance = r2_train - r2\n",
    "Results = Results.append({'Model':'K_Nearest Neighbors','Train R2':r2_train ,'Test R2':r2,'Test RMSE':rmse,'Variance':variance},ignore_index=True)\n",
    "print('R2:',r2)\n",
    "print('RMSE:',rmse)"
   ]
  },
  {
   "cell_type": "code",
   "execution_count": 499,
   "id": "4e80167c",
   "metadata": {},
   "outputs": [
    {
     "data": {
      "text/html": [
       "<div>\n",
       "<style scoped>\n",
       "    .dataframe tbody tr th:only-of-type {\n",
       "        vertical-align: middle;\n",
       "    }\n",
       "\n",
       "    .dataframe tbody tr th {\n",
       "        vertical-align: top;\n",
       "    }\n",
       "\n",
       "    .dataframe thead th {\n",
       "        text-align: right;\n",
       "    }\n",
       "</style>\n",
       "<table border=\"1\" class=\"dataframe\">\n",
       "  <thead>\n",
       "    <tr style=\"text-align: right;\">\n",
       "      <th></th>\n",
       "      <th>Model</th>\n",
       "      <th>Train R2</th>\n",
       "      <th>Test R2</th>\n",
       "      <th>Test RMSE</th>\n",
       "      <th>Variance</th>\n",
       "    </tr>\n",
       "  </thead>\n",
       "  <tbody>\n",
       "    <tr>\n",
       "      <th>0</th>\n",
       "      <td>K_Nearest Neighbors</td>\n",
       "      <td>0.140398</td>\n",
       "      <td>-0.200324</td>\n",
       "      <td>5.871314</td>\n",
       "      <td>0.340722</td>\n",
       "    </tr>\n",
       "  </tbody>\n",
       "</table>\n",
       "</div>"
      ],
      "text/plain": [
       "                 Model  Train R2   Test R2  Test RMSE  Variance\n",
       "0  K_Nearest Neighbors  0.140398 -0.200324   5.871314  0.340722"
      ]
     },
     "execution_count": 499,
     "metadata": {},
     "output_type": "execute_result"
    }
   ],
   "source": [
    "Results.head()"
   ]
  },
  {
   "cell_type": "code",
   "execution_count": 500,
   "id": "4f3b284e",
   "metadata": {},
   "outputs": [
    {
     "data": {
      "text/plain": [
       "SVR()"
      ]
     },
     "execution_count": 500,
     "metadata": {},
     "output_type": "execute_result"
    }
   ],
   "source": [
    "# Support Vector Regressor\n",
    "svr = SVR().fit(X_train,y_train)\n",
    "svr"
   ]
  },
  {
   "cell_type": "code",
   "execution_count": 501,
   "id": "a99a590d",
   "metadata": {},
   "outputs": [],
   "source": [
    "svr_train_pred=svr.predict(X_train)\n",
    "svr_test_pred=svr.predict(X_test)"
   ]
  },
  {
   "cell_type": "code",
   "execution_count": 502,
   "id": "cb060de0",
   "metadata": {},
   "outputs": [
    {
     "name": "stdout",
     "output_type": "stream",
     "text": [
      "[13.14071458 12.49865724 13.13890052 13.08400201 12.03843384 12.49053879\n",
      " 13.55519269 12.49000932 12.44221483 12.48433089 13.32049666 12.47571646\n",
      " 12.41851313 12.68766098 12.40052546 11.9930554  12.49309762 13.50805023\n",
      " 12.20545795 13.49659612 13.28013761 12.49106144 13.14028467 12.49674382\n",
      " 12.98479525 13.52100341 12.40039065 12.63573568 12.71169276 13.10147326\n",
      " 12.46995436 12.40012772 13.53771957 12.46716308 13.56346554 12.49171355\n",
      " 12.46487074 12.79967572 13.57941928 12.48702573 12.0070649  13.05759586\n",
      " 12.90384443 12.39192321 13.35027441 12.6778719  13.00077686 13.28463765\n",
      " 12.26345084 13.46239    13.11521415 13.51785917 12.49811305 13.2356077\n",
      " 13.55140602 12.98968247 12.45468184 12.4260168  12.48200094 13.15434548\n",
      " 12.40014394 12.46093822 12.44684408 12.67026823 13.47740951 13.37979628\n",
      " 13.02357519 13.57704682 12.84468978 12.49854869 12.47857242 12.52095079\n",
      " 12.46964934 12.4714173  13.19954285 12.1998791  12.63338348 13.17222034\n",
      " 13.57756122 12.49618292 13.50062935 12.93682178 12.7292434  12.4759764\n",
      " 12.40425551 12.45923993 12.79322767 13.55845208 12.41986406 12.67026823\n",
      " 12.48224153 12.49420691 13.45144116 13.55757569 13.57096735 12.24189386\n",
      " 12.63338348 13.04891069 12.40248978 13.20504116 12.47196848 12.45570859\n",
      " 13.57096735 11.99390011 12.9302409  13.18008826 12.40645042 13.05759586\n",
      " 12.8909533  13.47740951 12.07419246 12.40016964 12.10249312 12.67460912\n",
      " 12.67678144 13.30551881 13.52778878 12.0430976  13.35187003 13.31891952\n",
      " 13.55792471 13.45144116 12.43618513 11.997892   13.34679464 12.40192147\n",
      " 12.49053879 12.4826272  12.46556851 12.74479163 12.60371866 12.80822147\n",
      " 12.00039079 12.95432881] [12.4881742  12.46705714 12.84637751 12.89060948 12.72555458 13.51662739\n",
      " 12.40545955 13.23747153 12.43110746 13.14433896 13.28639995 12.54513358\n",
      " 13.41597738 12.23888094 12.40052546 12.48947492 13.09733641 12.49367609\n",
      " 12.95833777 13.13826508 12.47847201 12.49862663 13.4599955  12.49394035\n",
      " 12.40454365 12.56677764 12.49882929 12.01347205 12.36279338 12.18223576\n",
      " 13.06555207 12.40472545 13.21297098 12.40963925 12.40047789 11.99166387\n",
      " 12.49295092 13.49855893 12.79457546 12.07245749 12.02527161 13.57316543\n",
      " 12.48741888 13.11177399 12.02155612 12.44467441 12.6013387  12.7292434\n",
      " 12.64595062 13.57480112 12.4002072  12.04657024 12.49889052 13.53974701\n",
      " 12.46903543 12.49878212 12.43218796 13.41917883 12.42595152 12.43830782\n",
      " 13.57756122 12.40807086 13.39317907 12.44201054 13.15878376 13.17670915]\n"
     ]
    }
   ],
   "source": [
    "print(svr_train_pred,svr_test_pred)"
   ]
  },
  {
   "cell_type": "code",
   "execution_count": 503,
   "id": "9d9f339a",
   "metadata": {},
   "outputs": [
    {
     "name": "stdout",
     "output_type": "stream",
     "text": [
      "R2: -0.09797623142519907\n",
      "RMSE: 5.615424303916079\n"
     ]
    }
   ],
   "source": [
    "r2 = r2_score(y_test,svr_test_pred)\n",
    "r2_train = r2_score(y_train,svr_train_pred)\n",
    "rmse = np.sqrt(mean_squared_error(y_test,svr_test_pred))\n",
    "variance = r2_train - r2\n",
    "Results = Results.append({'Model':'Supoort Vector Machine','Train R2':r2_train ,'Test R2':r2,'Test RMSE':rmse,'Variance':variance},ignore_index=True)\n",
    "print('R2:',r2)\n",
    "print('RMSE:',rmse)"
   ]
  },
  {
   "cell_type": "code",
   "execution_count": 504,
   "id": "1db41476",
   "metadata": {},
   "outputs": [
    {
     "data": {
      "text/html": [
       "<div>\n",
       "<style scoped>\n",
       "    .dataframe tbody tr th:only-of-type {\n",
       "        vertical-align: middle;\n",
       "    }\n",
       "\n",
       "    .dataframe tbody tr th {\n",
       "        vertical-align: top;\n",
       "    }\n",
       "\n",
       "    .dataframe thead th {\n",
       "        text-align: right;\n",
       "    }\n",
       "</style>\n",
       "<table border=\"1\" class=\"dataframe\">\n",
       "  <thead>\n",
       "    <tr style=\"text-align: right;\">\n",
       "      <th></th>\n",
       "      <th>Model</th>\n",
       "      <th>Train R2</th>\n",
       "      <th>Test R2</th>\n",
       "      <th>Test RMSE</th>\n",
       "      <th>Variance</th>\n",
       "    </tr>\n",
       "  </thead>\n",
       "  <tbody>\n",
       "    <tr>\n",
       "      <th>0</th>\n",
       "      <td>K_Nearest Neighbors</td>\n",
       "      <td>0.140398</td>\n",
       "      <td>-0.200324</td>\n",
       "      <td>5.871314</td>\n",
       "      <td>0.340722</td>\n",
       "    </tr>\n",
       "    <tr>\n",
       "      <th>1</th>\n",
       "      <td>Supoort Vector Machine</td>\n",
       "      <td>-0.052471</td>\n",
       "      <td>-0.097976</td>\n",
       "      <td>5.615424</td>\n",
       "      <td>0.045506</td>\n",
       "    </tr>\n",
       "  </tbody>\n",
       "</table>\n",
       "</div>"
      ],
      "text/plain": [
       "                    Model  Train R2   Test R2  Test RMSE  Variance\n",
       "0     K_Nearest Neighbors  0.140398 -0.200324   5.871314  0.340722\n",
       "1  Supoort Vector Machine -0.052471 -0.097976   5.615424  0.045506"
      ]
     },
     "execution_count": 504,
     "metadata": {},
     "output_type": "execute_result"
    }
   ],
   "source": [
    "Results.head()"
   ]
  },
  {
   "cell_type": "code",
   "execution_count": 505,
   "id": "11b9d74b",
   "metadata": {},
   "outputs": [],
   "source": [
    "# Importing statistical model\n",
    "import statsmodels.api as sm"
   ]
  },
  {
   "cell_type": "code",
   "execution_count": 506,
   "id": "a6d5b85f",
   "metadata": {},
   "outputs": [],
   "source": [
    "X_train_constant = sm.add_constant(X_train)"
   ]
  },
  {
   "cell_type": "code",
   "execution_count": 507,
   "id": "7c2d7efb",
   "metadata": {},
   "outputs": [],
   "source": [
    "model = sm.OLS(y_train, X_train_constant).fit()"
   ]
  },
  {
   "cell_type": "code",
   "execution_count": 508,
   "id": "eaabe086",
   "metadata": {},
   "outputs": [
    {
     "data": {
      "text/plain": [
       "const    13.514452\n",
       "x1        0.003636\n",
       "dtype: float64"
      ]
     },
     "execution_count": 508,
     "metadata": {},
     "output_type": "execute_result"
    }
   ],
   "source": [
    "model.params"
   ]
  },
  {
   "cell_type": "code",
   "execution_count": 509,
   "id": "706aec8b",
   "metadata": {},
   "outputs": [
    {
     "name": "stdout",
     "output_type": "stream",
     "text": [
      "                            OLS Regression Results                            \n",
      "==============================================================================\n",
      "Dep. Variable:                  Sales   R-squared:                       0.003\n",
      "Model:                            OLS   Adj. R-squared:                 -0.004\n",
      "Method:                 Least Squares   F-statistic:                    0.4378\n",
      "Date:                Thu, 15 Jun 2023   Prob (F-statistic):              0.509\n",
      "Time:                        15:49:46   Log-Likelihood:                -415.53\n",
      "No. Observations:                 134   AIC:                             835.1\n",
      "Df Residuals:                     132   BIC:                             840.9\n",
      "Df Model:                           1                                         \n",
      "Covariance Type:            nonrobust                                         \n",
      "==============================================================================\n",
      "                 coef    std err          t      P>|t|      [0.025      0.975]\n",
      "------------------------------------------------------------------------------\n",
      "const         13.5145      0.950     14.232      0.000      11.636      15.393\n",
      "x1             0.0036      0.005      0.662      0.509      -0.007       0.015\n",
      "==============================================================================\n",
      "Omnibus:                        7.602   Durbin-Watson:                   2.269\n",
      "Prob(Omnibus):                  0.022   Jarque-Bera (JB):                6.198\n",
      "Skew:                           0.429   Prob(JB):                       0.0451\n",
      "Kurtosis:                       2.389   Cond. No.                         351.\n",
      "==============================================================================\n",
      "\n",
      "Notes:\n",
      "[1] Standard Errors assume that the covariance matrix of the errors is correctly specified.\n"
     ]
    }
   ],
   "source": [
    "print(model.summary())"
   ]
  },
  {
   "cell_type": "code",
   "execution_count": 510,
   "id": "bafdab8a",
   "metadata": {},
   "outputs": [
    {
     "data": {
      "image/png": "[encoded data removed]",
      "text/plain": [
       "<Figure size 432x288 with 1 Axes>"
      ]
     },
     "metadata": {
      "needs_background": "light"
     },
     "output_type": "display_data"
    }
   ],
   "source": [
    "plt.scatter(X_train,y_train)\n",
    "plt.plot(X_train,6.9955 + 0.0541 * X_train , 'y')\n",
    "plt.show()"
   ]
  },
  {
   "cell_type": "code",
   "execution_count": 511,
   "id": "38e4bc31",
   "metadata": {},
   "outputs": [
    {
     "data": {
      "text/plain": [
       "162    0.879044\n",
       "148   -2.705718\n",
       "70     4.279408\n",
       "75    -5.309684\n",
       "47     8.662360\n",
       "         ...   \n",
       "111    7.859401\n",
       "143   -3.998743\n",
       "91    -6.654416\n",
       "165   -2.667820\n",
       "39     7.159434\n",
       "Name: Sales, Length: 134, dtype: float64"
      ]
     },
     "execution_count": 511,
     "metadata": {},
     "output_type": "execute_result"
    }
   ],
   "source": [
    "y_train_pred = model.predict(X_train_constant)\n",
    "res = (y_train - y_train_pred)\n",
    "res"
   ]
  },
  {
   "cell_type": "code",
   "execution_count": 512,
   "id": "eccc828d",
   "metadata": {},
   "outputs": [
    {
     "data": {
      "text/plain": [
       "array([14.02095585, 13.60571762, 14.02059225, 14.00968406, 14.5376402 ,\n",
       "       13.57699274, 14.19948648, 13.57590192, 13.84315244, 13.65807691,\n",
       "       14.0591345 , 13.67116673, 13.74097911, 14.38456201, 13.79224758,\n",
       "       14.58200015, 13.58281044, 14.1125846 , 14.478736  , 14.10822133,\n",
       "       14.05004435, 13.86787766, 14.30856832, 13.62898842, 14.33547518,\n",
       "       14.21693957, 13.7813394 , 14.39328856, 14.38056234, 14.31547684,\n",
       "       13.54608622, 13.78606628, 14.20930384, 13.54281376, 14.1416731 ,\n",
       "       13.57953798, 13.85587866, 13.9525979 , 14.17185241, 13.65335003,\n",
       "       14.56018378, 14.32311257, 14.3489286 , 14.4372849 , 14.26675361,\n",
       "       13.92496383, 13.99332179, 14.28093425, 14.46455536, 14.23766512,\n",
       "       14.01586537, 14.11658427, 13.60099074, 14.29075162, 14.13331016,\n",
       "       13.99114015, 13.52936033, 13.83151705, 13.56208489, 14.30602308,\n",
       "       13.7875207 , 13.69007425, 14.42674032, 14.38747086, 14.23293824,\n",
       "       14.2598451 , 14.32893027, 14.17839732, 13.96205166, 13.61844384,\n",
       "       13.86242357, 13.87951306, 13.54572261, 13.67698443, 14.29766014,\n",
       "       14.48019043, 13.91369204, 14.30275062, 14.15803537, 14.41765017,\n",
       "       14.22493891, 14.34347451, 14.37765349, 13.67080313, 13.76606794,\n",
       "       13.53408721, 14.36710891, 14.19730484, 13.82606295, 14.38747086,\n",
       "       13.56244849, 13.58571929, 14.24093758, 14.13730982, 14.18676026,\n",
       "       14.46964585, 13.91369204, 14.00277555, 13.77115842, 14.03404567,\n",
       "       13.67625722, 13.69625556, 14.18676026, 14.57945491, 14.34456533,\n",
       "       14.3012962 , 13.76097745, 14.32311257, 13.97150542, 14.23293824,\n",
       "       14.52055071, 13.78824791, 14.50964253, 14.38674364, 14.38638004,\n",
       "       14.27657098, 14.12094755, 14.53509496, 14.26639001, 14.05877089,\n",
       "       14.19766844, 14.24093758, 13.71879914, 14.57145557, 14.0653158 ,\n",
       "       13.79879249, 13.57699274, 13.8642416 , 13.54099573, 13.94059889,\n",
       "       14.39874265, 13.95441593, 14.56781951, 14.34056566])"
      ]
     },
     "execution_count": 512,
     "metadata": {},
     "output_type": "execute_result"
    }
   ],
   "source": [
    "y_train_pred"
   ]
  },
  {
   "cell_type": "code",
   "execution_count": 513,
   "id": "e68c4e12",
   "metadata": {},
   "outputs": [
    {
     "data": {
      "image/png": "[encoded data removed]",
      "text/plain": [
       "<Figure size 432x288 with 1 Axes>"
      ]
     },
     "metadata": {
      "needs_background": "light"
     },
     "output_type": "display_data"
    }
   ],
   "source": [
    "fig = plt.figure()\n",
    "sns.distplot(res , bins = 15)\n",
    "fig.suptitle('Error Terms ' , fontsize =15)\n",
    "plt.xlabel ('Difference in y_train and y_pred' , fontsize = 15)\n",
    "plt.show()"
   ]
  },
  {
   "cell_type": "code",
   "execution_count": 514,
   "id": "e3f720d2",
   "metadata": {},
   "outputs": [
    {
     "data": {
      "image/png": "[encoded data removed]",
      "text/plain": [
       "<Figure size 432x288 with 1 Axes>"
      ]
     },
     "metadata": {
      "needs_background": "light"
     },
     "output_type": "display_data"
    }
   ],
   "source": [
    "plt.scatter(X_train,res)\n",
    "plt.show()"
   ]
  },
  {
   "cell_type": "code",
   "execution_count": 515,
   "id": "dcb5f58f",
   "metadata": {},
   "outputs": [],
   "source": [
    "X_test_constant = sm.add_constant(X_test)\n",
    "y_pred = model.predict(X_test_constant)"
   ]
  },
  {
   "cell_type": "code",
   "execution_count": 516,
   "id": "7b6b7a0a",
   "metadata": {},
   "outputs": [
    {
     "data": {
      "text/plain": [
       "array([14.41910459, 13.85696948, 14.35838236, 14.35111024, 13.93623562,\n",
       "       14.2187576 , 13.76315909, 14.29038801, 13.83551671, 14.02168307,\n",
       "       14.28057065, 13.887876  , 14.25075494, 14.47037306, 13.79224758,\n",
       "       13.64862315, 14.31620405, 13.86896848, 13.98495884, 14.30893193,\n",
       "       13.5569944 , 13.60535402, 14.23839233, 13.58499207, 13.76534073,\n",
       "       13.89478452, 13.61444417, 14.55436608, 14.4431026 , 14.48491731,\n",
       "       14.006048  , 13.80606462, 14.29511489, 13.75479615, 13.79188398,\n",
       "       14.59218112, 13.58244683, 14.10894854, 13.95150708, 14.52127792,\n",
       "       14.54563953, 14.15112686, 13.65262282, 14.31365881, 14.54818478,\n",
       "       13.70898177, 13.90496549, 14.37765349, 13.91696449, 14.15330849,\n",
       "       13.78897513, 14.53327693, 13.61189893, 14.12676524, 13.5449954 ,\n",
       "       13.60753566, 13.72352602, 14.08385972, 13.73116175, 13.8406072 ,\n",
       "       14.15803537, 13.757705  , 14.25657264, 13.51699772, 14.02459191,\n",
       "       14.02822798])"
      ]
     },
     "execution_count": 516,
     "metadata": {},
     "output_type": "execute_result"
    }
   ],
   "source": [
    "y_pred"
   ]
  },
  {
   "cell_type": "code",
   "execution_count": 517,
   "id": "ea055827",
   "metadata": {},
   "outputs": [],
   "source": [
    "from sklearn.metrics import mean_squared_error\n",
    "from sklearn.metrics import r2_score"
   ]
  },
  {
   "cell_type": "code",
   "execution_count": 518,
   "id": "89fa1136",
   "metadata": {},
   "outputs": [
    {
     "data": {
      "text/plain": [
       "5.364202066037219"
      ]
     },
     "execution_count": 518,
     "metadata": {},
     "output_type": "execute_result"
    }
   ],
   "source": [
    "np.sqrt(mean_squared_error(y_test,y_pred))"
   ]
  },
  {
   "cell_type": "code",
   "execution_count": 519,
   "id": "2628b569",
   "metadata": {},
   "outputs": [
    {
     "data": {
      "text/plain": [
       "-0.001931526703192965"
      ]
     },
     "execution_count": 519,
     "metadata": {},
     "output_type": "execute_result"
    }
   ],
   "source": [
    "r2=r2_score(y_test,y_pred)\n",
    "r2"
   ]
  },
  {
   "cell_type": "code",
   "execution_count": 520,
   "id": "d908f3fd",
   "metadata": {},
   "outputs": [
    {
     "data": {
      "image/png": "[encoded data removed]",
      "text/plain": [
       "<Figure size 432x288 with 1 Axes>"
      ]
     },
     "metadata": {
      "needs_background": "light"
     },
     "output_type": "display_data"
    }
   ],
   "source": [
    "plt.scatter(X_test, y_test)\n",
    "plt.plot(X_test,6.9955 + 0.0541 * X_test , 'y')\n",
    "plt.show()"
   ]
  },
  {
   "cell_type": "code",
   "execution_count": null,
   "id": "ca1d1984",
   "metadata": {},
   "outputs": [],
   "source": []
  }
 ],
 "metadata": {
  "kernelspec": {
   "display_name": "Python 3 (ipykernel)",
   "language": "python",
   "name": "python3"
  },
  "language_info": {
   "codemirror_mode": {
    "name": "ipython",
    "version": 3
   },
   "file_extension": ".py",
   "mimetype": "text/x-python",
   "name": "python",
   "nbconvert_exporter": "python",
   "pygments_lexer": "ipython3",
   "version": "3.9.7"
  }
 },
 "nbformat": 4,
 "nbformat_minor": 5
}
